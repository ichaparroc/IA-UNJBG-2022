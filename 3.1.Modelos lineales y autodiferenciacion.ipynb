{
  "cells": [
    {
      "cell_type": "markdown",
      "metadata": {
        "execution": {},
        "id": "wib90P0oeKh3"
      },
      "source": [
        "# Inteligencia Artificial - ESIS - UNJBG\n",
        "## Semana 3: Modelos Lineales y Autodiferenciación 1/3\n",
        "### Docente: MSc.(c) Israel N. Chaparro-Cruz\n",
        "\n",
        "**Basado en: Week 1, Day 2: Linear Deep Learning, By Neuromatch Academy**\n",
        "\n",
        "__Content creators:__ Saeed Salehi, Vladimir Haltakov, Andrew Saxe\n",
        "\n",
        "__Content reviewers:__ Polina Turishcheva, Antoine De Comite, Kelson Shilling-Scrivo\n",
        "\n",
        "__Content editors:__ Anoop Kulkarni, Spiros Chavlis\n",
        "\n",
        "__Production editors:__ Khalid Almubarak, Spiros Chavlis\n",
        "\n",
        "__Post-Production team:__ Gagana B, Spiros Chavlis\n",
        "\n",
        "__Content Traduction:__ Israel N. Chaparro-Cruz"
      ]
    },
    {
      "cell_type": "markdown",
      "metadata": {
        "execution": {},
        "id": "UUyPlmWIeKh-"
      },
      "source": [
        "---\n",
        "# Objetivos del Tutorial\n",
        "\n",
        "Se continuará con la construcción del conjunto de habilidades de PyTorch y motivará su funcionalidad principal: Autograd. En este cuaderno, cubriremos los conceptos e ideas clave de:\n",
        "\n",
        "* Descenso de gradientes\n",
        "* PyTorch Autograd\n",
        "* Módulo `nn` de PyTorch"
      ]
    },
    {
      "cell_type": "markdown",
      "metadata": {
        "execution": {},
        "id": "AeRO9876eKiD"
      },
      "source": [
        "---\n",
        "# Configuración\n",
        "\n",
        "Este es un tutorial sin GPU."
      ]
    },
    {
      "cell_type": "code",
      "execution_count": 1,
      "metadata": {
        "execution": {},
        "id": "dynlnFmAeKiF"
      },
      "outputs": [],
      "source": [
        "# Imports\n",
        "import torch\n",
        "import numpy as np\n",
        "from torch import nn\n",
        "from math import pi\n",
        "import matplotlib.pyplot as plt"
      ]
    },
    {
      "cell_type": "code",
      "execution_count": 2,
      "metadata": {
        "cellView": "form",
        "execution": {},
        "id": "HKeht2OLeKiG"
      },
      "outputs": [],
      "source": [
        "# @title Figure settings\n",
        "import ipywidgets as widgets       # Interactive display\n",
        "%config InlineBackend.figure_format = 'retina'\n",
        "plt.style.use(\"https://raw.githubusercontent.com/NeuromatchAcademy/content-creation/main/nma.mplstyle\")"
      ]
    },
    {
      "cell_type": "code",
      "execution_count": 3,
      "metadata": {
        "cellView": "form",
        "execution": {},
        "id": "IbkJL-K6eKiH"
      },
      "outputs": [],
      "source": [
        "# @title Plotting functions\n",
        "\n",
        "from mpl_toolkits.axes_grid1 import make_axes_locatable\n",
        "\n",
        "def ex3_plot(model, x, y, ep, lss):\n",
        "  \"\"\"\n",
        "  Plot training loss\n",
        "\n",
        "  Args:\n",
        "    model: nn.module\n",
        "      Model implementing regression\n",
        "    x: np.ndarray\n",
        "      Training Data\n",
        "    y: np.ndarray\n",
        "      Targets\n",
        "    ep: int\n",
        "      Number of epochs\n",
        "    lss: function\n",
        "      Loss function\n",
        "\n",
        "  Returns:\n",
        "    Nothing\n",
        "  \"\"\"\n",
        "  f, (ax1, ax2) = plt.subplots(1, 2, figsize=(12, 4))\n",
        "  ax1.set_title(\"Regression\")\n",
        "  ax1.plot(x, model(x).detach().numpy(), color='r', label='prediction')\n",
        "  ax1.scatter(x, y, c='c', label='targets')\n",
        "  ax1.set_xlabel('x')\n",
        "  ax1.set_ylabel('y')\n",
        "  ax1.legend()\n",
        "\n",
        "  ax2.set_title(\"Training loss\")\n",
        "  ax2.plot(np.linspace(1, epochs, epochs), losses, color='y')\n",
        "  ax2.set_xlabel(\"Epoch\")\n",
        "  ax2.set_ylabel(\"MSE\")\n",
        "\n",
        "  plt.show()\n",
        "\n",
        "\n",
        "def ex1_plot(fun_z, fun_dz):\n",
        "  \"\"\"\n",
        "  Plots the function and gradient vectors\n",
        "\n",
        "  Args:\n",
        "    fun_z: f.__name__\n",
        "      Function implementing sine function\n",
        "    fun_dz: f.__name__\n",
        "      Function implementing sine function as gradient vector\n",
        "\n",
        "  Returns:\n",
        "    Nothing\n",
        "  \"\"\"\n",
        "  x, y = np.arange(-3, 3.01, 0.02), np.arange(-3, 3.01, 0.02)\n",
        "  xx, yy = np.meshgrid(x, y, sparse=True)\n",
        "  zz = fun_z(xx, yy)\n",
        "  xg, yg = np.arange(-2.5, 2.6, 0.5), np.arange(-2.5, 2.6, 0.5)\n",
        "  xxg, yyg = np.meshgrid(xg, yg, sparse=True)\n",
        "  zxg, zyg = fun_dz(xxg, yyg)\n",
        "\n",
        "  plt.figure(figsize=(8, 7))\n",
        "  plt.title(\"Gradient vectors point towards steepest ascent\")\n",
        "  contplt = plt.contourf(x, y, zz, levels=20)\n",
        "  plt.quiver(xxg, yyg, zxg, zyg, scale=50, color='r', )\n",
        "  plt.xlabel('$x$')\n",
        "  plt.ylabel('$y$')\n",
        "  ax = plt.gca()\n",
        "  divider = make_axes_locatable(ax)\n",
        "  cax = divider.append_axes(\"right\", size=\"5%\", pad=0.05)\n",
        "  cbar = plt.colorbar(contplt, cax=cax)\n",
        "  cbar.set_label('$z = h(x, y)$')\n",
        "\n",
        "  plt.show()"
      ]
    },
    {
      "cell_type": "code",
      "execution_count": 4,
      "metadata": {
        "cellView": "form",
        "execution": {},
        "id": "oeam0ly5eKiJ"
      },
      "outputs": [],
      "source": [
        "# @title Set random seed\n",
        "\n",
        "# @markdown Executing `set_seed(seed=seed)` you are setting the seed\n",
        "\n",
        "# For DL its critical to set the random seed so that students can have a\n",
        "# baseline to compare their results to expected results.\n",
        "# Read more here: https://pytorch.org/docs/stable/notes/randomness.html\n",
        "\n",
        "# Call `set_seed` function in the exercises to ensure reproducibility.\n",
        "import random\n",
        "import torch\n",
        "\n",
        "def set_seed(seed=None, seed_torch=True):\n",
        "  \"\"\"\n",
        "  Function that controls randomness. NumPy and random modules must be imported.\n",
        "\n",
        "  Args:\n",
        "    seed : Integer\n",
        "      A non-negative integer that defines the random state. Default is `None`.\n",
        "    seed_torch : Boolean\n",
        "      If `True` sets the random seed for pytorch tensors, so pytorch module\n",
        "      must be imported. Default is `True`.\n",
        "\n",
        "  Returns:\n",
        "    Nothing.\n",
        "  \"\"\"\n",
        "  if seed is None:\n",
        "    seed = np.random.choice(2 ** 32)\n",
        "  random.seed(seed)\n",
        "  np.random.seed(seed)\n",
        "  if seed_torch:\n",
        "    torch.manual_seed(seed)\n",
        "    torch.cuda.manual_seed_all(seed)\n",
        "    torch.cuda.manual_seed(seed)\n",
        "    torch.backends.cudnn.benchmark = False\n",
        "    torch.backends.cudnn.deterministic = True\n",
        "\n",
        "  print(f'Random seed {seed} has been set.')\n",
        "\n",
        "\n",
        "# In case that `DataLoader` is used\n",
        "def seed_worker(worker_id):\n",
        "  \"\"\"\n",
        "  DataLoader will reseed workers following randomness in\n",
        "  multi-process data loading algorithm.\n",
        "\n",
        "  Args:\n",
        "    worker_id: integer\n",
        "      ID of subprocess to seed. 0 means that\n",
        "      the data will be loaded in the main process\n",
        "      Refer: https://pytorch.org/docs/stable/data.html#data-loading-randomness for more details\n",
        "\n",
        "  Returns:\n",
        "    Nothing\n",
        "  \"\"\"\n",
        "  worker_seed = torch.initial_seed() % 2**32\n",
        "  np.random.seed(worker_seed)\n",
        "  random.seed(worker_seed)"
      ]
    },
    {
      "cell_type": "code",
      "execution_count": 5,
      "metadata": {
        "cellView": "form",
        "execution": {},
        "id": "wJgNRjKpeKiK"
      },
      "outputs": [],
      "source": [
        "# @title Set device (GPU or CPU). Execute `set_device()`\n",
        "# especially if torch modules used.\n",
        "\n",
        "# inform the user if the notebook uses GPU or CPU.\n",
        "\n",
        "def set_device():\n",
        "  \"\"\"\n",
        "  Set the device. CUDA if available, CPU otherwise\n",
        "\n",
        "  Args:\n",
        "    None\n",
        "\n",
        "  Returns:\n",
        "    Nothing\n",
        "  \"\"\"\n",
        "  device = \"cuda\" if torch.cuda.is_available() else \"cpu\"\n",
        "  if device != \"cuda\":\n",
        "    print(\"GPU is not enabled in this notebook. \\n\"\n",
        "          \"If you want to enable it, in the menu under `Runtime` -> \\n\"\n",
        "          \"`Hardware accelerator.` and select `GPU` from the dropdown menu\")\n",
        "  else:\n",
        "    print(\"GPU is enabled in this notebook. \\n\"\n",
        "          \"If you want to disable it, in the menu under `Runtime` -> \\n\"\n",
        "          \"`Hardware accelerator.` and select `None` from the dropdown menu\")\n",
        "\n",
        "  return device"
      ]
    },
    {
      "cell_type": "code",
      "execution_count": null,
      "metadata": {
        "execution": {},
        "id": "tyJr3Hu-eKiL"
      },
      "outputs": [],
      "source": [
        "SEED = 2021\n",
        "set_seed(seed=SEED)\n",
        "DEVICE = set_device()"
      ]
    },
    {
      "cell_type": "markdown",
      "metadata": {
        "execution": {},
        "id": "Wi1GAk4xeKiM"
      },
      "source": [
        "---\n",
        "# Sección 0: Introducción"
      ]
    },
    {
      "cell_type": "markdown",
      "metadata": {
        "execution": {},
        "id": "Az5gqPqSeKiM"
      },
      "source": [
        "Vamos a recorrer 3 tutoriales. \n",
        "\n",
        "- Comenzando con el Descenso de Gradientes, el caballo de batalla de los algoritmos de aprendizaje profundo. \n",
        "- El segundo tutorial nos ayudará a construir una mejor intuición sobre las redes neuronales y los hiperparámetros básicos. \n",
        "- Por último, en el tutorial 3, aprenderemos sobre la dinámica de aprendizaje, lo que aprende una (buena) red profunda, y por qué a veces pueden tener un mal rendimiento."
      ]
    },
    {
      "cell_type": "markdown",
      "metadata": {
        "execution": {},
        "id": "pemTkVn5eKiN"
      },
      "source": [
        "---\n",
        "# Sección 1: Algoritmo de descenso de gradiente"
      ]
    },
    {
      "cell_type": "markdown",
      "metadata": {
        "execution": {},
        "id": "fto56LAgeKiO"
      },
      "source": [
        "Dado que el objetivo de la mayoría de los algoritmos de aprendizaje es **minimizar la función de riesgo (también conocida como coste o pérdida)**, la optimización suele ser el núcleo de la mayoría de las técnicas de aprendizaje automático. El algoritmo de descenso de gradiente, junto con sus variaciones como el descenso de gradiente estocástico, es uno de los métodos de optimización más potentes y populares utilizados para el aprendizaje profundo. Hoy presentaremos los fundamentos."
      ]
    },
    {
      "cell_type": "markdown",
      "metadata": {
        "execution": {},
        "id": "ouDcnS0peKiO"
      },
      "source": [
        "## Sección 1.1: Gradientes y ascensos más pronunciados"
      ]
    },
    {
      "cell_type": "markdown",
      "metadata": {
        "execution": {},
        "id": "TYrUMV1jeKiP"
      },
      "source": [
        "Antes de introducir el algoritmo de descenso de gradiente, vamos a repasar una propiedad muy importante de los gradientes. El gradiente de una función siempre apunta en la dirección del ascenso más pronunciado. El siguiente ejercicio nos ayudará a aclarar esto."
      ]
    },
    {
      "cell_type": "markdown",
      "metadata": {
        "execution": {},
        "id": "BrYsfxNIeKiQ"
      },
      "source": [
        "### Ejercicio analítico 1.1: Vector gradiente (Opcional)\n",
        "\n",
        "Dada la siguiente función:\n",
        "\n",
        "\\begin{equation}\n",
        "z = h(x, y) = \\sin(x^2 + y^2)\n",
        "\\end{equation}\n",
        "\n",
        "encontrar el vector gradiente:\n",
        "\n",
        "\\begin{equation}\n",
        "  \\begin{bmatrix}\n",
        "  \\dfrac{\\partial z}{\\partial x} \\\\ \\\\ \\dfrac{\\partial z}{\\partial y}\n",
        "  \\end{bmatrix}\n",
        "\\end{equation}\n",
        "\n",
        "*Pista: Usa la regla de la cadena*\n",
        "\n",
        "**Regla de la cadena: Para una función compuesta $F(x) = g(h(x)) \\equiv (g \\circ h)(x)$:\n",
        "\n",
        "\\begin{equation}\n",
        "F'(x) = g'(h(x)) \\cdot h'(x)\n",
        "\\end{equation}\n",
        "\n",
        "o con otra denominación:\n",
        "\n",
        "\\begin{equation}\n",
        "\\frac{dF}{dx} = \\frac{dg}{dh} ~ \\frac{dh}{dx}\n",
        "\\end{equation}\n",
        "\n",
        "---\n",
        "#### Solución:\n",
        "Podemos reescribir la función como una función compuesta:\n",
        "\n",
        "\\begin{equation}\n",
        "z = f\\left( g(x,y) \\right), ~~ f(u) = \\sin(u), ~~ g(x, y) = x^2 + y^2\n",
        "\\end{equation}\n",
        "\n",
        "Usando la [regla de la cadena](https://en.wikipedia.org/wiki/Chain_rule):\n",
        "\n",
        "\\begin{align}\n",
        "\\dfrac{\\partial z}{\\partial x} &= \\dfrac{\\partial f}{\\partial g} \\dfrac{\\partial g}{\\partial x} = \\cos(g(x,y)) ~ (2x) = \\cos(x^2 + y^2) \\cdot 2x \\\\ \\\\\n",
        "\\dfrac{\\partial z}{\\partial y} &= \\dfrac{\\partial f}{\\partial g} \\dfrac{\\partial g}{\\partial y} = \\cos(g(x,y)) ~ (2y) = \\cos(x^2 + y^2) \\cdot 2y\n",
        "\\end{align}"
      ]
    },
    {
      "cell_type": "markdown",
      "metadata": {
        "execution": {},
        "id": "vVbVJq_ceKiQ"
      },
      "source": [
        "### Ejercicio 1.1: Vector de gradiente\n",
        "\n",
        "Implementa (completa) la función que devuelve el vector gradiente para $z=\\sin(x^2 + y^2)$."
      ]
    },
    {
      "cell_type": "code",
      "execution_count": null,
      "metadata": {
        "execution": {},
        "id": "5iLzJFAmeKiR"
      },
      "outputs": [],
      "source": [
        "def fun_z(x, y):\n",
        "  \"\"\"\n",
        "  Implements function sin(x^2 + y^2)\n",
        "\n",
        "  Args:\n",
        "    x: (float, np.ndarray)\n",
        "      Variable x\n",
        "    y: (float, np.ndarray)\n",
        "      Variable y\n",
        "\n",
        "  Returns:\n",
        "    z: (float, np.ndarray)\n",
        "      sin(x^2 + y^2)\n",
        "  \"\"\"\n",
        "  z = np.sin(x**2 + y**2)\n",
        "  return z\n",
        "\n",
        "\n",
        "def fun_dz(x, y):\n",
        "  \"\"\"\n",
        "  Implements function sin(x^2 + y^2)\n",
        "\n",
        "  Args:\n",
        "    x: (float, np.ndarray)\n",
        "      Variable x\n",
        "    y: (float, np.ndarray)\n",
        "      Variable y\n",
        "\n",
        "  Returns:\n",
        "    Tuple of gradient vector for sin(x^2 + y^2)\n",
        "  \"\"\"\n",
        "  #################################################\n",
        "  ## Implement the function which returns gradient vector\n",
        "  ## Complete the partial derivatives dz_dx and dz_dy\n",
        "  # Complete the function and remove or comment the line below\n",
        "  raise NotImplementedError(\"Gradient function `fun_dz`\")\n",
        "  #################################################\n",
        "  dz_dx = ...\n",
        "  dz_dy = ...\n",
        "  return (dz_dx, dz_dy)\n",
        "\n",
        "## Uncomment to run\n",
        "# ex1_plot(fun_z, fun_dz)"
      ]
    },
    {
      "cell_type": "markdown",
      "metadata": {
        "execution": {},
        "id": "8qb6dizVeKiS"
      },
      "source": [
        "[*Click for solution*](https://github.com/NeuromatchAcademy/course-content-dl/tree/main//tutorials/W1D2_LinearDeepLearning/solutions/W1D2_Tutorial1_Solution_115a15ba.py)\n",
        "\n",
        "*Example output:*\n",
        "\n",
        "<img alt='Solution hint' align='left' width=1120.0 height=976.0 src=https://raw.githubusercontent.com/NeuromatchAcademy/course-content-dl/main/tutorials/W1D2_LinearDeepLearning/static/W1D2_Tutorial1_Solution_115a15ba_0.png>\n",
        "\n"
      ]
    },
    {
      "cell_type": "markdown",
      "metadata": {
        "execution": {},
        "id": "2raOXO0peKiS"
      },
      "source": [
        "Podemos ver en el gráfico que para cualquier $x_0$ e $y_0$ dados, el vector gradiente $\\left[ \\dfrac{\\partial z}{\\partial x}, \\dfrac{\\partial z}{\\partial y}\\right]^{\\top}_{(x_0, y_0)}$ apunta en la dirección de $x$ e $y$ para la que $z$ aumenta más. Es importante tener en cuenta que los vectores de gradiente sólo ven sus valores locales, ¡no todo el paisaje! Además, la longitud (tamaño) de cada vector, que indica la inclinación de la función, puede ser muy pequeña cerca de las mesetas locales (es decir, los mínimos o los máximos).\n",
        "\n",
        "Por lo tanto, podemos utilizar simplemente la fórmula mencionada para encontrar los mínimos locales. \n",
        "\n",
        "En 1847, Augustin-Louis Cauchy utilizó la **negativa de los gradientes** para desarrollar el algoritmo de Descenso de Gradientes como método **iterativo** para **minimizar** una **función continua** e (idealmente) **diferenciable** de **muchas variables**."
      ]
    },
    {
      "cell_type": "markdown",
      "metadata": {
        "execution": {},
        "id": "x_eJWg3jeKiT"
      },
      "source": [
        "## Sección 1.2: Algoritmo de ascenso gradual"
      ]
    },
    {
      "cell_type": "markdown",
      "metadata": {
        "execution": {},
        "id": "dC5ruNxneKiT"
      },
      "source": [
        "Sea $f(\\mathbf{w}): \\mathbb{R}^d \\rightarrow \\mathbb{R}$ una función diferenciable. El descenso de gradiente es un algoritmo iterativo para minimizar la función $f$, partiendo de un valor inicial para las variables $\\mathbf{w}$, dando pasos de tamaño $\\eta$ (tasa de aprendizaje) en la dirección del gradiente negativo en el punto actual para actualizar las variables $\\mathbf{w}$.\n",
        "\n",
        "\\begin{equation}\n",
        "\\mathbf{w}^{(t+1)} = \\mathbf{w}^{(t)} - \\eta \\nabla f \\left( \\mathbf{w}^{(t)} \\right)\n",
        "\\end{equation}\n",
        "\n",
        "donde $\\eta > 0$ y $\\nabla f (\\mathbf{w})= \\left( \\frac{\\partial f(\\mathbf{w})}{\\partial w_1}, ..., \\frac{\\partial f(\\mathbf{w})}{\\partial w_d} \\right)$. Como Los gradientes negativos siempre apuntan localmente en la dirección del descenso más pronunciado, el algoritmo da pequeños pasos en cada punto **hacia** el mínimo.\n",
        "  \n",
        "<br/>\n",
        "\n",
        "**Vanilla Algorithm**\n",
        "\n",
        "---\n",
        "> **Inputs:** initial guess $\\mathbf{w}^{(0)}$, step size $\\eta > 0$, number of steps $T$.\n",
        "\n",
        "> **For** $t = 0, 1, 2, \\dots , T-1$ **do** \\\n",
        "$\\qquad$ $\\mathbf{w}^{(t+1)} = \\mathbf{w}^{(t)} - \\eta \\nabla f \\left( \\mathbf{w}^{(t)} \\right)$\\\n",
        "**end**\n",
        "\n",
        "> **Return:** $\\mathbf{w}^{(t+1)}$\n",
        "\n",
        "---\n",
        "\n",
        "<br/>\n",
        "\n",
        "Por lo tanto, todo lo que necesitamos es calcular el gradiente de la función de pérdida con respecto a los parámetros aprendibles (es decir, los pesos):\n",
        "\n",
        "\\begin{equation}\n",
        "\\dfrac{\\partial Loss}{\\partial \\mathbf{w}} = \\left[ \\dfrac{\\partial Loss}{\\partial w_1}, \\dfrac{\\partial Loss}{\\partial w_2} , \\dots, \\dfrac{\\partial Loss}{\\partial w_d} \\right]^{\\top}\n",
        "\\end{equation}"
      ]
    },
    {
      "cell_type": "markdown",
      "metadata": {
        "execution": {},
        "id": "0dfR_6C2eKiW"
      },
      "source": [
        "### Ejercicio analítico 1.2: Gradientes\n",
        "\n",
        "Dado $f(x, y, z) = \\tanh \\left( \\ln \\left[1 + z \\frac{2x}{sin(y)} \\right] \\right)$, cuán facil resulta derivar $\\dfrac{\\partial f}{\\partial x}$, $\\dfrac{\\partial f}{\\partial y}$ and $\\dfrac{\\partial f}{\\partial z}$?\n",
        "\n",
        "**Pista:** No hace falta que los calcule."
      ]
    },
    {
      "cell_type": "markdown",
      "metadata": {
        "execution": {},
        "id": "A-rBdYukeKiX"
      },
      "source": [
        "## Sección 1.3: Grafos Computacionales y Retropropagación"
      ]
    },
    {
      "cell_type": "markdown",
      "metadata": {
        "execution": {},
        "id": "y-OxGqbDeKiY"
      },
      "source": [
        "El *ejercicio 1.2* es un ejemplo de lo abrumadora que puede llegar a ser la derivación de gradientes, a medida que aumenta el número de variables y funciones anidadas. Esta función sigue siendo extraordinariamente sencilla en comparación con las funciones de pérdida de las redes neuronales modernas. Entonces, ¿cómo podemos (al igual que PyTorch y otros marcos similares) acercarnos a estas bestias?\n",
        "\n",
        "Veamos la función de nuevo:\n",
        "\n",
        "\\begin{equation}\n",
        "f(x, y, z) = \\tanh \\left(\\ln \\left[1 + z \\frac{2x}{sin(y)} \\right] \\right)\n",
        "\\end{equation}\n",
        "\n",
        "Podemos construir el llamado gráfo computacional (que se muestra a continuación) para dividir la función original en expresiones más pequeñas y accesibles.\n",
        "\n",
        "<center><img src=\"https://raw.githubusercontent.com/NeuromatchAcademy/course-content-dl/main/tutorials/W1D2_LinearDeepLearning/static/comput_graph.png\" alt=\"Computation Graph\" width=\"700\"/></center>\n",
        "\n",
        "Partiendo de $x$, $y$ y $z$ y siguiendo las flechas y expresiones, se vería que nuestra gráfica devuelve la misma función que $f$. Lo hace calculando las variables intermedias $a,b,c,d,$ y $e$. A esto se le llama el **paso hacia delante**.\n",
        "\n",
        "Ahora, empecemos desde $f$, y trabajemos contra las flechas mientras calculamos el gradiente de cada expresión a medida que avanzamos. Esto se llama el **paso hacia atrás**, de donde el algoritmo de **propagación hacia atrás de los errores** recibe su nombre.\n",
        "\n",
        "<center><img src=\"https://raw.githubusercontent.com/NeuromatchAcademy/course-content-dl/main/tutorials/W1D2_LinearDeepLearning/static/comput_graph_full.png\" alt=\"Computation Graph full\" width=\"1200\"/></center>\n",
        "\n",
        "Al dividir el cálculo en operaciones simples sobre variables intermedias, podemos utilizar la regla de la cadena para calcular cualquier gradiente:\n",
        "\n",
        "\\begin{equation}\n",
        "\\dfrac{\\partial f}{\\partial x} = \\dfrac{\\partial f}{\\partial e}~\\dfrac{\\partial e}{\\partial d}~\\dfrac{\\partial d}{\\partial c}~\\dfrac{\\partial c}{\\partial a}~\\dfrac{\\partial a}{\\partial x} = \\left( 1-\\tanh^2(e) \\right) \\cdot \\frac{1}{d+1}\\cdot z \\cdot \\frac{1}{b} \\cdot 2\n",
        "\\end{equation}\n",
        "\n",
        "Convenientemente, los valores de $e$, $b$ y $d$ están disponibles para nosotros desde que hicimos el pase hacia adelante a través del gráfico. Es decir, las derivadas parciales tienen expresiones simples en términos de las variables intermedias $a,b,c,d,e$ que calculamos y almacenamos durante el paso hacia adelante."
      ]
    },
    {
      "cell_type": "markdown",
      "metadata": {
        "execution": {},
        "id": "-8kxpw3reKiZ"
      },
      "source": [
        "### Ejercicio analítico 1.3: Regla de la cadena (opcional)\n",
        "Para la función anterior, calcule la $\\dfrac{\\partial f}{\\partial y}$ utilizando el gráfico computacional y la regla de la cadena.\n",
        "\n",
        "---\n",
        "#### Solución:\n",
        "\\begin{equation}\n",
        "\\dfrac{\\partial f}{\\partial y} = \\dfrac{\\partial f}{\\partial e}~\\dfrac{\\partial e}{\\partial d}~\\dfrac{\\partial d}{\\partial c}~\\dfrac{\\partial c}{\\partial b}~\\dfrac{\\partial b}{\\partial y} = \\left( 1-\\tanh^2(e) \\right) \\cdot \\frac{1}{d+1}\\cdot z \\cdot \\frac{-a}{b^2} \\cdot \\cos(y)\n",
        "\\end{equation}"
      ]
    },
    {
      "cell_type": "markdown",
      "metadata": {
        "execution": {},
        "id": "-OGQQ1C0eKiZ"
      },
      "source": [
        "For more: [Calculus on Computational Graphs: Backpropagation](https://colah.github.io/posts/2015-08-Backprop/)"
      ]
    },
    {
      "cell_type": "markdown",
      "metadata": {
        "execution": {},
        "id": "UdwXX7kBeKiZ"
      },
      "source": [
        "---\n",
        "# Sección 2: PyTorch AutoGrad"
      ]
    },
    {
      "cell_type": "markdown",
      "metadata": {
        "execution": {},
        "id": "lY9eaUBHeKia"
      },
      "source": [
        "Los frameworks de aprendizaje profundo como PyTorch, JAX y TensorFlow vienen con un conjunto de algoritmos muy eficientes y sofisticados, comúnmente conocidos como diferenciación automática. AutoGrad es el motor de diferenciación automática de PyTorch. Aquí comenzamos cubriendo lo esencial de AutoGrad."
      ]
    },
    {
      "cell_type": "markdown",
      "metadata": {
        "execution": {},
        "id": "JUUItL-OeKia"
      },
      "source": [
        "## Sección 2.1: Propagación hacia delante\n",
        "\n",
        "Todo comienza con la propagación hacia adelante (pass). PyTorch rastrea todas las instrucciones, a medida que declaramos las variables y operaciones, y construye el gráfico cuando llamamos al pase `.backward()`. PyTorch reconstruye el gráfico cada vez que iteramos o cambiamos (o dicho de forma sencilla, PyTorch utiliza un gráfico dinámico).\n",
        "\n",
        "Para el descenso de gradiente, sólo se requiere tener los gradientes de la función de coste con respecto a las variables que deseamos aprender. Estas variables suelen llamarse \"parámetros aprendibles / entrenables\" o simplemente \"parámetros\" en PyTorch. En las redes neuronales, los pesos y los sesgos suelen ser los parámetros aprendibles."
      ]
    },
    {
      "cell_type": "markdown",
      "metadata": {
        "execution": {},
        "id": "6dJHvuHHeKib"
      },
      "source": [
        "### Ejercicio 2.1: Construir un gráfico computacional\n",
        "\n",
        "En PyTorch, para indicar que un determinado tensor contiene parámetros aprendibles, podemos establecer el argumento opcional `requires_grad` a `True`. PyTorch rastreará entonces cada operación que utilice este tensor mientras configura el gráfico computacional. Para este ejercicio, utiliza los tensores proporcionados para construir el siguiente gráfico, que implementa una sola neurona con entrada y salida escalar.\n",
        "\n",
        "<br>\n",
        "\n",
        "<center><img src=\"https://raw.githubusercontent.com/NeuromatchAcademy/course-content-dl/main/tutorials/W1D2_LinearDeepLearning/static/simple_graph.png\" alt=\"Simple nn graph\" width=\"600\"/></center>"
      ]
    },
    {
      "cell_type": "code",
      "execution_count": null,
      "metadata": {
        "execution": {},
        "id": "2TiyUwh6eKib"
      },
      "outputs": [],
      "source": [
        "class SimpleGraph:\n",
        "  \"\"\"\n",
        "  Implementing Simple Computational Graph\n",
        "  \"\"\"\n",
        "\n",
        "  def __init__(self, w, b):\n",
        "    \"\"\"\n",
        "    Initializing the SimpleGraph\n",
        "\n",
        "    Args:\n",
        "      w: float\n",
        "        Initial value for weight\n",
        "      b: float\n",
        "        Initial value for bias\n",
        "\n",
        "    Returns:\n",
        "      Nothing\n",
        "    \"\"\"\n",
        "    assert isinstance(w, float)\n",
        "    assert isinstance(b, float)\n",
        "    self.w = torch.tensor([w], requires_grad=True)\n",
        "    self.b = torch.tensor([b], requires_grad=True)\n",
        "\n",
        "  def forward(self, x):\n",
        "    \"\"\"\n",
        "    Forward pass\n",
        "\n",
        "    Args:\n",
        "      x: torch.Tensor\n",
        "        1D tensor of features\n",
        "\n",
        "    Returns:\n",
        "      prediction: torch.Tensor\n",
        "        Model predictions\n",
        "    \"\"\"\n",
        "    assert isinstance(x, torch.Tensor)\n",
        "    #################################################\n",
        "    ## Implement the the forward pass to calculate prediction\n",
        "    ## Note that prediction is not the loss, but the value after `tanh`\n",
        "    # Complete the function and remove or comment the line below\n",
        "    raise NotImplementedError(\"Forward Pass `forward`\")\n",
        "    #################################################\n",
        "    prediction = ...\n",
        "    return prediction\n",
        "\n",
        "\n",
        "def sq_loss(y_true, y_prediction):\n",
        "  \"\"\"\n",
        "  L2 loss function\n",
        "\n",
        "  Args:\n",
        "    y_true: torch.Tensor\n",
        "      1D tensor of target labels\n",
        "    y_prediction: torch.Tensor\n",
        "      1D tensor of predictions\n",
        "\n",
        "  Returns:\n",
        "    loss: torch.Tensor\n",
        "      L2-loss (squared error)\n",
        "  \"\"\"\n",
        "  assert isinstance(y_true, torch.Tensor)\n",
        "  assert isinstance(y_prediction, torch.Tensor)\n",
        "  #################################################\n",
        "  ## Implement the L2-loss (squred error) given true label and prediction\n",
        "  # Complete the function and remove or comment the line below\n",
        "  raise NotImplementedError(\"Loss function `sq_loss`\")\n",
        "  #################################################\n",
        "  loss = ...\n",
        "  return loss\n",
        "\n",
        "feature = torch.tensor([1])  # Input tensor\n",
        "target = torch.tensor([7])  # Target tensor\n",
        "## Uncomment to run\n",
        "# simple_graph = SimpleGraph(-0.5, 0.5)\n",
        "# print(f\"initial weight = {simple_graph.w.item()}, \"\n",
        "#       f\"\\ninitial bias = {simple_graph.b.item()}\")\n",
        "# prediction = simple_graph.forward(feature)\n",
        "# square_loss = sq_loss(target, prediction)\n",
        "# print(f\"for x={feature.item()} and y={target.item()}, \"\n",
        "#       f\"prediction={prediction.item()}, and L2 Loss = {square_loss.item()}\")"
      ]
    },
    {
      "cell_type": "markdown",
      "metadata": {
        "execution": {},
        "id": "yrod_CK8eKic"
      },
      "source": [
        "[*Click for solution*](https://github.com/NeuromatchAcademy/course-content-dl/tree/main//tutorials/W1D2_LinearDeepLearning/solutions/W1D2_Tutorial1_Solution_66660afb.py)\n",
        "\n"
      ]
    },
    {
      "cell_type": "markdown",
      "metadata": {
        "execution": {},
        "id": "RMGmppnDeKic"
      },
      "source": [
        "Es importante apreciar el hecho de que PyTorch puede seguir nuestras operaciones mientras recorremos arbitrariamente las clases y funciones."
      ]
    },
    {
      "cell_type": "markdown",
      "metadata": {
        "execution": {},
        "id": "OsrwmdzQeKic"
      },
      "source": [
        "## Sección 2.2: Propagación hacia atrás\n",
        "\n",
        "Aquí es donde reside toda la magia. En PyTorch, `Tensor` y `Función` están interconectados y construyen un gráfico acíclico, que codifica una historia completa de computación. Cada variable tiene un atributo `grad_fn` que hace referencia a una función que ha creado el Tensor (excepto los Tensores creados por el usuario - estos tienen `None` como `grad_fn`).  El ejemplo siguiente muestra que el tensor `c = a + b` es creado por la operación `Add` y la función de gradación es el objeto `<AddBackward...>`. Sustituye `+` por otras operaciones simples (por ejemplo, `c = a * b` o `c = torch.sin(a)`) y examina los resultados."
      ]
    },
    {
      "cell_type": "code",
      "execution_count": null,
      "metadata": {
        "execution": {},
        "id": "JKOVIJtkeKic"
      },
      "outputs": [],
      "source": [
        "a = torch.tensor([1.0], requires_grad=True)\n",
        "b = torch.tensor([-1.0], requires_grad=True)\n",
        "c = a + b\n",
        "print(f'Gradient function = {c.grad_fn}')"
      ]
    },
    {
      "cell_type": "markdown",
      "metadata": {
        "execution": {},
        "id": "NiliDJQdeKid"
      },
      "source": [
        "Para funciones más complejas, la impresión del `grad_fn` sólo mostraría la última operación, aunque el objeto rastrea todas las operaciones hasta ese punto:"
      ]
    },
    {
      "cell_type": "code",
      "execution_count": null,
      "metadata": {
        "execution": {},
        "id": "makeYNBxeKid"
      },
      "outputs": [],
      "source": [
        "print(f'Gradient function for prediction = {prediction.grad_fn}')\n",
        "print(f'Gradient function for loss = {square_loss.grad_fn}')"
      ]
    },
    {
      "cell_type": "markdown",
      "metadata": {
        "execution": {},
        "id": "ShrZIJOGeKid"
      },
      "source": [
        "Ahora vamos a iniciar el paso hacia atrás para calcular los gradientes llamando a `.backward()` en el tensor desde el que queremos iniciar la retropropagación. A menudo, `.backward()` se llama a la pérdida, que es el último nodo en el gráfico. Antes de hacer eso, vamos a calcular los gradientes de pérdida a mano:\n",
        "\n",
        "$$\\frac{\\partial{loss}}{\\partial{w}} = - 2 x (y_t - y_p)(1 - y_p^2)$$\n",
        "\n",
        "$$\\frac{\\partial{loss}}{\\partial{b}} = - 2 (y_t - y_p)(1 - y_p^2)$$\n",
        "\n",
        "Donde $y_t$ es el objetivo (etiqueta verdadera), y $y_p$ es la predicción (salida del modelo). Luego podemos compararlo con los gradientes de PyTorch, que pueden obtenerse llamando a `.grad` en los tensores relevantes.\n",
        "\n",
        "**Notas importantes:**\n",
        "* Los parámetros aprendibles (es decir, los tensores `requires_grad`) son \"contagiosos\". Veamos un ejemplo sencillo: `Y = W @ X`, donde `X` es el tensor de características y `W` es el tensor de pesos (parámetros aprendibles, `requires_grad`), el nuevo tensor de salida generado `Y` será también `requires_grad`. Así que cualquier operación que se aplique a `Y` formará parte del grafo computacional. Por lo tanto, si necesitamos trazar o almacenar un tensor que es `requires_grad`, primero debemos `.detach()` del gráfico llamando al método `.detach()` sobre ese tensor.\n",
        "\n",
        "* `.backward()` acumula gradientes en los nodos hoja (es decir, los nodos de entrada al nodo de interés). Podemos llamar a `.zero_grad()` en la pérdida u optimizador para poner a cero todos los atributos `.grad` (ver [autograd.backward](https://pytorch.org/docs/stable/autograd.html#torch.autograd.backward) para más información).\n",
        "\n",
        "* Recordemos que en python podemos acceder a las variables y a los métodos asociados con `.method_name`. Puedes utilizar el comando `dir(mi_objeto)` para observar todas las variables y métodos asociados a tu objeto, por ejemplo, `dir(simple_graph.w)`."
      ]
    },
    {
      "cell_type": "code",
      "execution_count": null,
      "metadata": {
        "execution": {},
        "id": "LxooD6TjeKie"
      },
      "outputs": [],
      "source": [
        "# Analytical gradients (Remember detaching)\n",
        "ana_dloss_dw = - 2 * feature * (target - prediction.detach())*(1 - prediction.detach()**2)\n",
        "ana_dloss_db = - 2 * (target - prediction.detach())*(1 - prediction.detach()**2)\n",
        "\n",
        "square_loss.backward()  # First we should call the backward to build the graph\n",
        "autograd_dloss_dw = simple_graph.w.grad  # We calculate the derivative w.r.t weights\n",
        "autograd_dloss_db = simple_graph.b.grad  # We calculate the derivative w.r.t bias\n",
        "\n",
        "print(ana_dloss_dw == autograd_dloss_dw)\n",
        "print(ana_dloss_db == autograd_dloss_db)"
      ]
    },
    {
      "cell_type": "markdown",
      "metadata": {
        "execution": {},
        "id": "v5sp46WPeKie"
      },
      "source": [
        "## Referencias y más:\n",
        "\n",
        "* [A gentle introduction to torch.autograd](https://pytorch.org/tutorials/beginner/blitz/autograd_tutorial.html)\n",
        "\n",
        "* [Automatic Differentiation package - torch.autograd](https://pytorch.org/docs/stable/autograd.html)\n",
        "\n",
        "* [Autograd mechanics](https://pytorch.org/docs/stable/notes/autograd.html)\n",
        "\n",
        "* [Automatic Differentiation with torch.autograd](https://pytorch.org/tutorials/beginner/basics/autogradqs_tutorial.html)"
      ]
    },
    {
      "cell_type": "markdown",
      "metadata": {
        "execution": {},
        "id": "7O8GxQCoeKie"
      },
      "source": [
        "---\n",
        "# Sección 3: Módulo de red neuronal de PyTorch (`nn.Module`)"
      ]
    },
    {
      "cell_type": "markdown",
      "metadata": {
        "execution": {},
        "id": "J90RgwyJeKif"
      },
      "source": [
        "PyTorch nos proporciona bloques de construcción de redes neuronales listos para usar, como capas (por ejemplo, lineales, recurrentes, etc.), diferentes funciones de activación y pérdida, y mucho más, empaquetados en el módulo [`torch.nn`](https://pytorch.org/docs/stable/nn.html). Si construimos una red neuronal utilizando las capas de `torch.nn`, los pesos y los sesgos ya están en modo `requires_grad` y se registrarán como parámetros del modelo. \n",
        "\n",
        "Para el entrenamiento, necesitamos tres cosas:\n",
        "\n",
        "**Parámetros del modelo:** Los parámetros del modelo se refieren a todos los parámetros aprendibles del modelo, que son accesibles llamando a `.parameters()` en el modelo. Ten en cuenta que NO todos los tensores `requires_grad` se consideran parámetros del modelo. Para crear un parámetro de modelo personalizado, podemos utilizar [`nn.Parameter`](https://pytorch.org/docs/stable/generated/torch.nn.parameter.Parameter.html) (*Un tipo de Tensor que debe ser considerado un parámetro del módulo*).\n",
        "\n",
        "* **Función de pérdida:** La pérdida que vamos a optimizar, que a menudo se combina con los términos de regularización (en unos días).\n",
        "\n",
        "* **Optimizador:** PyTorch nos proporciona muchos métodos de optimización (diferentes versiones del descenso de gradiente). El optimizador mantiene el estado actual del modelo y llamando al método `step()`, actualizará los parámetros basándose en los gradientes calculados.\n",
        "\n",
        "Aprenderás más detalles sobre la elección de la arquitectura del modelo, la función de pérdida y el optimizador adecuados más adelante en el curso."
      ]
    },
    {
      "cell_type": "markdown",
      "metadata": {
        "execution": {},
        "id": "xXjKjhfVeKif"
      },
      "source": [
        "## Sección 3.1: Bucle de entrenamiento en PyTorch\n",
        "\n",
        "Utilizamos un problema de regresión para estudiar el bucle de entrenamiento en PyTorch.\n",
        "\n",
        "La tarea es entrenar una red neuronal amplia no lineal (utilizando la función de activación $\\tanh$) para una tarea de regresión simple $\\sin$. Se cree que las redes neuronales anchas son muy buenas para la generalización."
      ]
    },
    {
      "cell_type": "code",
      "execution_count": 7,
      "metadata": {
        "cellView": "form",
        "execution": {},
        "id": "FIWFB3z6eKig",
        "colab": {
          "base_uri": "https://localhost:8080/",
          "height": 375
        },
        "outputId": "cf0ec193-0b3b-4c5d-ebba-2f4917b37ba2"
      },
      "outputs": [
        {
          "output_type": "stream",
          "name": "stdout",
          "text": [
            "Random seed 2021 has been set.\n"
          ]
        },
        {
          "output_type": "display_data",
          "data": {
            "text/plain": [
              "<Figure size 576x360 with 1 Axes>"
            ],
            "image/png": "[encoded data removed]"
          },
          "metadata": {
            "image/png": {
              "width": 558,
              "height": 341
            },
            "needs_background": "light"
          }
        }
      ],
      "source": [
        "# @markdown #### Generar el conjunto de datos de muestra\n",
        "set_seed(seed=SEED)\n",
        "n_samples = 32\n",
        "inputs = torch.linspace(-1.0, 1.0, n_samples).reshape(n_samples, 1)\n",
        "noise = torch.randn(n_samples, 1) / 4\n",
        "targets = torch.sin(pi * inputs) + noise\n",
        "plt.figure(figsize=(8, 5))\n",
        "plt.scatter(inputs, targets, c='c')\n",
        "plt.xlabel('x (inputs)')\n",
        "plt.ylabel('y (targets)')\n",
        "plt.show()"
      ]
    },
    {
      "cell_type": "markdown",
      "metadata": {
        "execution": {},
        "id": "ZuUzg9_6eKig"
      },
      "source": [
        "Vamos a definir una red neuronal muy amplia (512 neuronas) con una capa oculta y la función de activación `nn.Tanh()`."
      ]
    },
    {
      "cell_type": "code",
      "execution_count": null,
      "metadata": {
        "execution": {},
        "id": "NYC_Tf6-eKig"
      },
      "outputs": [],
      "source": [
        "class WideNet(nn.Module):\n",
        "  \"\"\"\n",
        "   A Wide neural network with a single hidden layer\n",
        "   Structure is as follows:\n",
        "   nn.Sequential(\n",
        "        nn.Linear(1, n_cells) + nn.Tanh(), # Fully connected layer with tanh activation\n",
        "        nn.Linear(n_cells, 1) # Final fully connected layer\n",
        "    )\n",
        "  \"\"\"\n",
        "\n",
        "  def __init__(self):\n",
        "    \"\"\"\n",
        "    Initializing the parameters of WideNet\n",
        "\n",
        "    Args:\n",
        "      None\n",
        "\n",
        "    Returns:\n",
        "      Nothing\n",
        "    \"\"\"\n",
        "    n_cells = 512\n",
        "    super().__init__()\n",
        "    self.layers = nn.Sequential(\n",
        "        nn.Linear(1, n_cells),\n",
        "        nn.Tanh(),\n",
        "        nn.Linear(n_cells, 1),\n",
        "    )\n",
        "\n",
        "  def forward(self, x):\n",
        "    \"\"\"\n",
        "    Forward pass of WideNet\n",
        "\n",
        "    Args:\n",
        "      x: torch.Tensor\n",
        "        2D tensor of features\n",
        "\n",
        "    Returns:\n",
        "      Torch tensor of model predictions\n",
        "    \"\"\"\n",
        "    return self.layers(x)"
      ]
    },
    {
      "cell_type": "markdown",
      "metadata": {
        "execution": {},
        "id": "TH0Z01jJeKih"
      },
      "source": [
        "Ahora podemos crear una instancia de nuestra red neuronal e imprimir sus parámetros."
      ]
    },
    {
      "cell_type": "code",
      "execution_count": null,
      "metadata": {
        "execution": {},
        "id": "8MnP2BH5eKih"
      },
      "outputs": [],
      "source": [
        "# Creating an instance\n",
        "set_seed(seed=SEED)\n",
        "wide_net = WideNet()\n",
        "print(wide_net)"
      ]
    },
    {
      "cell_type": "code",
      "execution_count": null,
      "metadata": {
        "execution": {},
        "id": "B4Y13FPPeKih"
      },
      "outputs": [],
      "source": [
        "# Create a mse loss function\n",
        "loss_function = nn.MSELoss()\n",
        "\n",
        "# Stochstic Gradient Descent optimizer (you will learn about momentum soon)\n",
        "lr = 0.003  # Learning rate\n",
        "sgd_optimizer = torch.optim.SGD(wide_net.parameters(), lr=lr, momentum=0.9)"
      ]
    },
    {
      "cell_type": "markdown",
      "metadata": {
        "execution": {},
        "id": "TvKTingPeKii"
      },
      "source": [
        "El proceso de entrenamiento en PyTorch es interactivo - puedes realizar iteraciones de entrenamiento como quieras e inspeccionar los resultados después de cada iteración. \n",
        "\n",
        "Vamos a realizar una iteración de entrenamiento. Puedes ejecutar la celda varias veces y ver cómo se actualizan los parámetros y se reduce la pérdida. Este bloque de código es el núcleo de todo lo que viene: por favor, asegúrese de ir línea por línea a través de todos los comandos."
      ]
    },
    {
      "cell_type": "code",
      "execution_count": null,
      "metadata": {
        "execution": {},
        "id": "ZKdaX_jseKii"
      },
      "outputs": [],
      "source": [
        "# Reset all gradients to zero\n",
        "sgd_optimizer.zero_grad()\n",
        "\n",
        "# Forward pass (Compute the output of the model on the features (inputs))\n",
        "prediction = wide_net(inputs)\n",
        "\n",
        "# Compute the loss\n",
        "loss = loss_function(prediction, targets)\n",
        "print(f'Loss: {loss.item()}')\n",
        "\n",
        "# Perform backpropagation to build the graph and compute the gradients\n",
        "loss.backward()\n",
        "\n",
        "# Optimizer takes a tiny step in the steepest direction (negative of gradient)\n",
        "# and \"updates\" the weights and biases of the network\n",
        "sgd_optimizer.step()"
      ]
    },
    {
      "cell_type": "markdown",
      "metadata": {
        "execution": {},
        "id": "Bi8bLHaceKij"
      },
      "source": [
        "### Ejercicio: Bucle de formación\n",
        "Utilizando todo lo que hemos aprendido hasta ahora, te pedimos que completes la función de `entrenamiento` que aparece a continuación."
      ]
    },
    {
      "cell_type": "code",
      "execution_count": null,
      "metadata": {
        "execution": {},
        "id": "a7-st9AAeKij"
      },
      "outputs": [],
      "source": [
        "def train(features, labels, model, loss_fun, optimizer, n_epochs):\n",
        "  \"\"\"\n",
        "  Training function\n",
        "\n",
        "  Args:\n",
        "    features: torch.Tensor\n",
        "      Features (input) with shape torch.Size([n_samples, 1])\n",
        "    labels: torch.Tensor\n",
        "      Labels (targets) with shape torch.Size([n_samples, 1])\n",
        "    model: torch nn.Module\n",
        "      The neural network\n",
        "    loss_fun: function\n",
        "      Loss function\n",
        "    optimizer: function\n",
        "      Optimizer\n",
        "    n_epochs: int\n",
        "      Number of training iterations\n",
        "\n",
        "  Returns:\n",
        "    loss_record: list\n",
        "      Record (evolution) of training losses\n",
        "  \"\"\"\n",
        "  loss_record = []  # Keeping recods of loss\n",
        "\n",
        "  for i in range(n_epochs):\n",
        "    #################################################\n",
        "    ## Implement the missing parts of the training loop\n",
        "    # Complete the function and remove or comment the line below\n",
        "    raise NotImplementedError(\"Training loop `train`\")\n",
        "    #################################################\n",
        "    ...  # Set gradients to 0\n",
        "    predictions = ...  # Compute model prediction (output)\n",
        "    loss = ...  # Compute the loss\n",
        "    ...  # Compute gradients (backward pass)\n",
        "    ...  # Update parameters (optimizer takes a step)\n",
        "\n",
        "    loss_record.append(loss.item())\n",
        "  return loss_record\n",
        "\n",
        "set_seed(seed=2021)\n",
        "epochs = 1847 # Cauchy, Exercices d'analyse et de physique mathematique (1847)\n",
        "## Uncomment to run\n",
        "# losses = train(inputs, targets, wide_net, loss_function, sgd_optimizer, epochs)\n",
        "# ex3_plot(wide_net, inputs, targets, epochs, losses)"
      ]
    },
    {
      "cell_type": "markdown",
      "metadata": {
        "execution": {},
        "id": "teRdEUfNeKij"
      },
      "source": [
        "[*Click for solution*](https://github.com/NeuromatchAcademy/course-content-dl/tree/main//tutorials/W1D2_LinearDeepLearning/solutions/W1D2_Tutorial1_Solution_66cb245e.py)\n",
        "\n",
        "*Example output:*\n",
        "\n",
        "<img alt='Solution hint' align='left' width=1696.0 height=544.0 src=https://raw.githubusercontent.com/NeuromatchAcademy/course-content-dl/main/tutorials/W1D2_LinearDeepLearning/static/W1D2_Tutorial1_Solution_66cb245e_1.png>\n",
        "\n"
      ]
    },
    {
      "cell_type": "markdown",
      "metadata": {
        "execution": {},
        "id": "TgijVo_feKik"
      },
      "source": [
        "---\n",
        "# Resumen"
      ]
    },
    {
      "cell_type": "markdown",
      "metadata": {
        "execution": {},
        "id": "cBBhN7KLeKik"
      },
      "source": [
        "En este tutorial, hemos cubierto uno de los conceptos más básicos del aprendizaje profundo; el grafo computacional y cómo una red aprende mediante el descenso de gradiente y el algoritmo de retropropagación. Todo ello lo hemos visto utilizando módulos de PyTorch y hemos comparado las soluciones analíticas con las proporcionadas directamente por el módulo de PyTorch."
      ]
    }
  ],
  "metadata": {
    "colab": {
      "collapsed_sections": [],
      "name": "IA-UNJBG-Semana2-1/3",
      "provenance": [],
      "toc_visible": true
    },
    "kernel": {
      "display_name": "Python 3",
      "language": "python",
      "name": "python3"
    },
    "kernelspec": {
      "display_name": "Python 3",
      "name": "python3"
    },
    "language_info": {
      "codemirror_mode": {
        "name": "ipython",
        "version": 3
      },
      "file_extension": ".py",
      "mimetype": "text/x-python",
      "name": "python",
      "nbconvert_exporter": "python",
      "pygments_lexer": "ipython3",
      "version": "3.7.11"
    }
  },
  "nbformat": 4,
  "nbformat_minor": 0
}